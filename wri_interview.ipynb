{
 "cells": [
  {
   "cell_type": "code",
   "execution_count": 67,
   "metadata": {},
   "outputs": [],
   "source": [
    "import pandas as pd\n",
    "import numpy as np\n",
    "import os\n",
    "import altair as alt\n",
    "import seaborn as sns\n",
    "import matplotlib.pyplot as plt"
   ]
  },
  {
   "cell_type": "code",
   "execution_count": 68,
   "metadata": {},
   "outputs": [
    {
     "data": {
      "text/plain": [
       "'C:\\\\python_workfolder\\\\wri_interview'"
      ]
     },
     "execution_count": 68,
     "metadata": {},
     "output_type": "execute_result"
    }
   ],
   "source": [
    "os.getcwd()"
   ]
  },
  {
   "cell_type": "code",
   "execution_count": 69,
   "metadata": {},
   "outputs": [
    {
     "name": "stdout",
     "output_type": "stream",
     "text": [
      "historical_emissions.csv\n"
     ]
    }
   ],
   "source": [
    "human_development_data_path = os.path.join('development_data_copy.csv')\n",
    "emission_data_path = os.path.join('historical_emissions.csv')\n",
    "print(emission_data_path)"
   ]
  },
  {
   "cell_type": "code",
   "execution_count": 70,
   "metadata": {},
   "outputs": [],
   "source": [
    "emission_data = pd.read_csv(emission_data_path)"
   ]
  },
  {
   "cell_type": "code",
   "execution_count": 116,
   "metadata": {},
   "outputs": [
    {
     "data": {
      "text/plain": [
       "MtCO₂e    2708\n",
       "Name: Unit, dtype: int64"
      ]
     },
     "execution_count": 116,
     "metadata": {},
     "output_type": "execute_result"
    }
   ],
   "source": [
    "emission_data['Unit'].value_counts()"
   ]
  },
  {
   "cell_type": "code",
   "execution_count": 72,
   "metadata": {},
   "outputs": [],
   "source": [
    "columns = emission_data.columns.tolist()"
   ]
  },
  {
   "cell_type": "code",
   "execution_count": 73,
   "metadata": {},
   "outputs": [],
   "source": [
    "years = columns[4:]"
   ]
  },
  {
   "cell_type": "code",
   "execution_count": 99,
   "metadata": {},
   "outputs": [
    {
     "name": "stdout",
     "output_type": "stream",
     "text": [
      "2708\n"
     ]
    }
   ],
   "source": [
    "print(len(emission_data['2010']))"
   ]
  },
  {
   "cell_type": "code",
   "execution_count": 101,
   "metadata": {},
   "outputs": [],
   "source": [
    "emission_data_edited = pd.melt(emission_data, id_vars = ['Country', 'Data source', 'Sector', 'Gas'], value_vars = years, var_name = 'Year', value_name = 'Emission')"
   ]
  },
  {
   "cell_type": "code",
   "execution_count": 102,
   "metadata": {},
   "outputs": [
    {
     "data": {
      "text/html": [
       "<div>\n",
       "<style scoped>\n",
       "    .dataframe tbody tr th:only-of-type {\n",
       "        vertical-align: middle;\n",
       "    }\n",
       "\n",
       "    .dataframe tbody tr th {\n",
       "        vertical-align: top;\n",
       "    }\n",
       "\n",
       "    .dataframe thead th {\n",
       "        text-align: right;\n",
       "    }\n",
       "</style>\n",
       "<table border=\"1\" class=\"dataframe\">\n",
       "  <thead>\n",
       "    <tr style=\"text-align: right;\">\n",
       "      <th></th>\n",
       "      <th>Country</th>\n",
       "      <th>Data source</th>\n",
       "      <th>Sector</th>\n",
       "      <th>Gas</th>\n",
       "      <th>Year</th>\n",
       "      <th>Emission</th>\n",
       "    </tr>\n",
       "  </thead>\n",
       "  <tbody>\n",
       "    <tr>\n",
       "      <td>0</td>\n",
       "      <td>World</td>\n",
       "      <td>CAIT</td>\n",
       "      <td>Total including LUCF</td>\n",
       "      <td>All GHG</td>\n",
       "      <td>Unit</td>\n",
       "      <td>MtCO₂e</td>\n",
       "    </tr>\n",
       "    <tr>\n",
       "      <td>1</td>\n",
       "      <td>World</td>\n",
       "      <td>CAIT</td>\n",
       "      <td>Total excluding LUCF</td>\n",
       "      <td>All GHG</td>\n",
       "      <td>Unit</td>\n",
       "      <td>MtCO₂e</td>\n",
       "    </tr>\n",
       "    <tr>\n",
       "      <td>2</td>\n",
       "      <td>World</td>\n",
       "      <td>CAIT</td>\n",
       "      <td>Energy</td>\n",
       "      <td>All GHG</td>\n",
       "      <td>Unit</td>\n",
       "      <td>MtCO₂e</td>\n",
       "    </tr>\n",
       "    <tr>\n",
       "      <td>3</td>\n",
       "      <td>World</td>\n",
       "      <td>CAIT</td>\n",
       "      <td>Electricity/Heat</td>\n",
       "      <td>All GHG</td>\n",
       "      <td>Unit</td>\n",
       "      <td>MtCO₂e</td>\n",
       "    </tr>\n",
       "    <tr>\n",
       "      <td>4</td>\n",
       "      <td>China</td>\n",
       "      <td>CAIT</td>\n",
       "      <td>Total excluding LUCF</td>\n",
       "      <td>All GHG</td>\n",
       "      <td>Unit</td>\n",
       "      <td>MtCO₂e</td>\n",
       "    </tr>\n",
       "    <tr>\n",
       "      <td>...</td>\n",
       "      <td>...</td>\n",
       "      <td>...</td>\n",
       "      <td>...</td>\n",
       "      <td>...</td>\n",
       "      <td>...</td>\n",
       "      <td>...</td>\n",
       "    </tr>\n",
       "    <tr>\n",
       "      <td>81235</td>\n",
       "      <td>Tonga</td>\n",
       "      <td>CAIT</td>\n",
       "      <td>Fugitive Emissions</td>\n",
       "      <td>All GHG</td>\n",
       "      <td>1990</td>\n",
       "      <td>0</td>\n",
       "    </tr>\n",
       "    <tr>\n",
       "      <td>81236</td>\n",
       "      <td>Uganda</td>\n",
       "      <td>CAIT</td>\n",
       "      <td>Fugitive Emissions</td>\n",
       "      <td>All GHG</td>\n",
       "      <td>1990</td>\n",
       "      <td>0</td>\n",
       "    </tr>\n",
       "    <tr>\n",
       "      <td>81237</td>\n",
       "      <td>Saint Vincent and the Grenadines</td>\n",
       "      <td>CAIT</td>\n",
       "      <td>Fugitive Emissions</td>\n",
       "      <td>All GHG</td>\n",
       "      <td>1990</td>\n",
       "      <td>0</td>\n",
       "    </tr>\n",
       "    <tr>\n",
       "      <td>81238</td>\n",
       "      <td>Vanuatu</td>\n",
       "      <td>CAIT</td>\n",
       "      <td>Fugitive Emissions</td>\n",
       "      <td>All GHG</td>\n",
       "      <td>1990</td>\n",
       "      <td>0</td>\n",
       "    </tr>\n",
       "    <tr>\n",
       "      <td>81239</td>\n",
       "      <td>Samoa</td>\n",
       "      <td>CAIT</td>\n",
       "      <td>Fugitive Emissions</td>\n",
       "      <td>All GHG</td>\n",
       "      <td>1990</td>\n",
       "      <td>0</td>\n",
       "    </tr>\n",
       "  </tbody>\n",
       "</table>\n",
       "<p>81240 rows × 6 columns</p>\n",
       "</div>"
      ],
      "text/plain": [
       "                                Country Data source                Sector  \\\n",
       "0                                 World        CAIT  Total including LUCF   \n",
       "1                                 World        CAIT  Total excluding LUCF   \n",
       "2                                 World        CAIT                Energy   \n",
       "3                                 World        CAIT      Electricity/Heat   \n",
       "4                                 China        CAIT  Total excluding LUCF   \n",
       "...                                 ...         ...                   ...   \n",
       "81235                             Tonga        CAIT    Fugitive Emissions   \n",
       "81236                            Uganda        CAIT    Fugitive Emissions   \n",
       "81237  Saint Vincent and the Grenadines        CAIT    Fugitive Emissions   \n",
       "81238                           Vanuatu        CAIT    Fugitive Emissions   \n",
       "81239                             Samoa        CAIT    Fugitive Emissions   \n",
       "\n",
       "           Gas  Year Emission  \n",
       "0      All GHG  Unit   MtCO₂e  \n",
       "1      All GHG  Unit   MtCO₂e  \n",
       "2      All GHG  Unit   MtCO₂e  \n",
       "3      All GHG  Unit   MtCO₂e  \n",
       "4      All GHG  Unit   MtCO₂e  \n",
       "...        ...   ...      ...  \n",
       "81235  All GHG  1990        0  \n",
       "81236  All GHG  1990        0  \n",
       "81237  All GHG  1990        0  \n",
       "81238  All GHG  1990        0  \n",
       "81239  All GHG  1990        0  \n",
       "\n",
       "[81240 rows x 6 columns]"
      ]
     },
     "execution_count": 102,
     "metadata": {},
     "output_type": "execute_result"
    }
   ],
   "source": [
    "emission_data_edited"
   ]
  },
  {
   "cell_type": "code",
   "execution_count": 113,
   "metadata": {},
   "outputs": [],
   "source": [
    "emission_data_edited.to_csv('emission_data_edited.csv', index = False)"
   ]
  },
  {
   "cell_type": "code",
   "execution_count": 19,
   "metadata": {},
   "outputs": [],
   "source": [
    "development_data = pd.read_csv(human_development_data_path, engine='python')"
   ]
  },
  {
   "cell_type": "code",
   "execution_count": 20,
   "metadata": {},
   "outputs": [
    {
     "data": {
      "text/html": [
       "<div>\n",
       "<style scoped>\n",
       "    .dataframe tbody tr th:only-of-type {\n",
       "        vertical-align: middle;\n",
       "    }\n",
       "\n",
       "    .dataframe tbody tr th {\n",
       "        vertical-align: top;\n",
       "    }\n",
       "\n",
       "    .dataframe thead th {\n",
       "        text-align: right;\n",
       "    }\n",
       "</style>\n",
       "<table border=\"1\" class=\"dataframe\">\n",
       "  <thead>\n",
       "    <tr style=\"text-align: right;\">\n",
       "      <th></th>\n",
       "      <th>HDI Rank</th>\n",
       "      <th>Country</th>\n",
       "      <th>1990</th>\n",
       "      <th>Unnamed: 3</th>\n",
       "      <th>1991</th>\n",
       "      <th>Unnamed: 5</th>\n",
       "      <th>1992</th>\n",
       "      <th>Unnamed: 7</th>\n",
       "      <th>1993</th>\n",
       "      <th>Unnamed: 9</th>\n",
       "      <th>...</th>\n",
       "      <th>Unnamed: 51</th>\n",
       "      <th>2015</th>\n",
       "      <th>Unnamed: 53</th>\n",
       "      <th>2016</th>\n",
       "      <th>Unnamed: 55</th>\n",
       "      <th>2017</th>\n",
       "      <th>Unnamed: 57</th>\n",
       "      <th>2018</th>\n",
       "      <th>Unnamed: 59</th>\n",
       "      <th>2019</th>\n",
       "    </tr>\n",
       "  </thead>\n",
       "  <tbody>\n",
       "    <tr>\n",
       "      <td>0</td>\n",
       "      <td>169</td>\n",
       "      <td>Afghanistan</td>\n",
       "      <td>0.302</td>\n",
       "      <td>NaN</td>\n",
       "      <td>0.307</td>\n",
       "      <td>NaN</td>\n",
       "      <td>0.316</td>\n",
       "      <td>NaN</td>\n",
       "      <td>0.312</td>\n",
       "      <td>NaN</td>\n",
       "      <td>...</td>\n",
       "      <td>NaN</td>\n",
       "      <td>0.5</td>\n",
       "      <td>NaN</td>\n",
       "      <td>0.502</td>\n",
       "      <td>NaN</td>\n",
       "      <td>0.506</td>\n",
       "      <td>NaN</td>\n",
       "      <td>0.509</td>\n",
       "      <td>NaN</td>\n",
       "      <td>0.511</td>\n",
       "    </tr>\n",
       "    <tr>\n",
       "      <td>1</td>\n",
       "      <td>69</td>\n",
       "      <td>Albania</td>\n",
       "      <td>0.65</td>\n",
       "      <td>NaN</td>\n",
       "      <td>0.631</td>\n",
       "      <td>NaN</td>\n",
       "      <td>0.615</td>\n",
       "      <td>NaN</td>\n",
       "      <td>0.618</td>\n",
       "      <td>NaN</td>\n",
       "      <td>...</td>\n",
       "      <td>NaN</td>\n",
       "      <td>0.788</td>\n",
       "      <td>NaN</td>\n",
       "      <td>0.788</td>\n",
       "      <td>NaN</td>\n",
       "      <td>0.79</td>\n",
       "      <td>NaN</td>\n",
       "      <td>0.792</td>\n",
       "      <td>NaN</td>\n",
       "      <td>0.795</td>\n",
       "    </tr>\n",
       "    <tr>\n",
       "      <td>2</td>\n",
       "      <td>91</td>\n",
       "      <td>Algeria</td>\n",
       "      <td>0.572</td>\n",
       "      <td>NaN</td>\n",
       "      <td>0.576</td>\n",
       "      <td>NaN</td>\n",
       "      <td>0.582</td>\n",
       "      <td>NaN</td>\n",
       "      <td>0.586</td>\n",
       "      <td>NaN</td>\n",
       "      <td>...</td>\n",
       "      <td>NaN</td>\n",
       "      <td>0.74</td>\n",
       "      <td>NaN</td>\n",
       "      <td>0.743</td>\n",
       "      <td>NaN</td>\n",
       "      <td>0.745</td>\n",
       "      <td>NaN</td>\n",
       "      <td>0.746</td>\n",
       "      <td>NaN</td>\n",
       "      <td>0.748</td>\n",
       "    </tr>\n",
       "    <tr>\n",
       "      <td>3</td>\n",
       "      <td>36</td>\n",
       "      <td>Andorra</td>\n",
       "      <td>..</td>\n",
       "      <td>NaN</td>\n",
       "      <td>..</td>\n",
       "      <td>NaN</td>\n",
       "      <td>..</td>\n",
       "      <td>NaN</td>\n",
       "      <td>..</td>\n",
       "      <td>NaN</td>\n",
       "      <td>...</td>\n",
       "      <td>NaN</td>\n",
       "      <td>0.862</td>\n",
       "      <td>NaN</td>\n",
       "      <td>0.866</td>\n",
       "      <td>NaN</td>\n",
       "      <td>0.863</td>\n",
       "      <td>NaN</td>\n",
       "      <td>0.867</td>\n",
       "      <td>NaN</td>\n",
       "      <td>0.868</td>\n",
       "    </tr>\n",
       "    <tr>\n",
       "      <td>4</td>\n",
       "      <td>148</td>\n",
       "      <td>Angola</td>\n",
       "      <td>..</td>\n",
       "      <td>NaN</td>\n",
       "      <td>..</td>\n",
       "      <td>NaN</td>\n",
       "      <td>..</td>\n",
       "      <td>NaN</td>\n",
       "      <td>..</td>\n",
       "      <td>NaN</td>\n",
       "      <td>...</td>\n",
       "      <td>NaN</td>\n",
       "      <td>0.572</td>\n",
       "      <td>NaN</td>\n",
       "      <td>0.578</td>\n",
       "      <td>NaN</td>\n",
       "      <td>0.582</td>\n",
       "      <td>NaN</td>\n",
       "      <td>0.582</td>\n",
       "      <td>NaN</td>\n",
       "      <td>0.581</td>\n",
       "    </tr>\n",
       "  </tbody>\n",
       "</table>\n",
       "<p>5 rows × 61 columns</p>\n",
       "</div>"
      ],
      "text/plain": [
       "  HDI Rank       Country   1990  Unnamed: 3   1991  Unnamed: 5   1992  \\\n",
       "0      169   Afghanistan  0.302         NaN  0.307         NaN  0.316   \n",
       "1       69       Albania   0.65         NaN  0.631         NaN  0.615   \n",
       "2       91       Algeria  0.572         NaN  0.576         NaN  0.582   \n",
       "3       36       Andorra     ..         NaN     ..         NaN     ..   \n",
       "4      148        Angola     ..         NaN     ..         NaN     ..   \n",
       "\n",
       "   Unnamed: 7   1993  Unnamed: 9  ... Unnamed: 51   2015 Unnamed: 53   2016  \\\n",
       "0         NaN  0.312         NaN  ...         NaN    0.5         NaN  0.502   \n",
       "1         NaN  0.618         NaN  ...         NaN  0.788         NaN  0.788   \n",
       "2         NaN  0.586         NaN  ...         NaN   0.74         NaN  0.743   \n",
       "3         NaN     ..         NaN  ...         NaN  0.862         NaN  0.866   \n",
       "4         NaN     ..         NaN  ...         NaN  0.572         NaN  0.578   \n",
       "\n",
       "  Unnamed: 55   2017 Unnamed: 57   2018 Unnamed: 59   2019  \n",
       "0         NaN  0.506         NaN  0.509         NaN  0.511  \n",
       "1         NaN   0.79         NaN  0.792         NaN  0.795  \n",
       "2         NaN  0.745         NaN  0.746         NaN  0.748  \n",
       "3         NaN  0.863         NaN  0.867         NaN  0.868  \n",
       "4         NaN  0.582         NaN  0.582         NaN  0.581  \n",
       "\n",
       "[5 rows x 61 columns]"
      ]
     },
     "execution_count": 20,
     "metadata": {},
     "output_type": "execute_result"
    }
   ],
   "source": [
    "development_data.head()"
   ]
  },
  {
   "cell_type": "code",
   "execution_count": 21,
   "metadata": {},
   "outputs": [
    {
     "data": {
      "text/plain": [
       "Index(['HDI Rank', 'Country', '1990', 'Unnamed: 3', '1991', 'Unnamed: 5',\n",
       "       '1992', 'Unnamed: 7', '1993', 'Unnamed: 9', '1994', 'Unnamed: 11',\n",
       "       '1995', 'Unnamed: 13', '1996', 'Unnamed: 15', '1997', 'Unnamed: 17',\n",
       "       '1998', 'Unnamed: 19', '1999', 'Unnamed: 21', '2000', 'Unnamed: 23',\n",
       "       '2001', 'Unnamed: 25', '2002', 'Unnamed: 27', '2003', 'Unnamed: 29',\n",
       "       '2004', 'Unnamed: 31', '2005', 'Unnamed: 33', '2006', 'Unnamed: 35',\n",
       "       '2007', 'Unnamed: 37', '2008', 'Unnamed: 39', '2009', 'Unnamed: 41',\n",
       "       '2010', 'Unnamed: 43', '2011', 'Unnamed: 45', '2012', 'Unnamed: 47',\n",
       "       '2013', 'Unnamed: 49', '2014', 'Unnamed: 51', '2015', 'Unnamed: 53',\n",
       "       '2016', 'Unnamed: 55', '2017', 'Unnamed: 57', '2018', 'Unnamed: 59',\n",
       "       '2019'],\n",
       "      dtype='object')"
      ]
     },
     "execution_count": 21,
     "metadata": {},
     "output_type": "execute_result"
    }
   ],
   "source": [
    "development_data.columns"
   ]
  },
  {
   "cell_type": "code",
   "execution_count": 37,
   "metadata": {},
   "outputs": [],
   "source": [
    "development_data_no_nan_col = development_data[development_data.columns.drop(list(development_data.filter(regex='Unnamed')))]"
   ]
  },
  {
   "cell_type": "code",
   "execution_count": 106,
   "metadata": {},
   "outputs": [],
   "source": [
    "country_data = development_data_no_nan_col[:-17]"
   ]
  },
  {
   "cell_type": "code",
   "execution_count": 108,
   "metadata": {},
   "outputs": [],
   "source": [
    "summary_data = development_data_no_nan_col[-17:]"
   ]
  },
  {
   "cell_type": "code",
   "execution_count": 39,
   "metadata": {},
   "outputs": [],
   "source": [
    "columns = development_data_no_nan_col.columns.tolist()"
   ]
  },
  {
   "cell_type": "code",
   "execution_count": 107,
   "metadata": {},
   "outputs": [],
   "source": [
    "time = columns[2:]"
   ]
  },
  {
   "cell_type": "code",
   "execution_count": 41,
   "metadata": {},
   "outputs": [],
   "source": [
    "development_data_no_nan_col= pd.melt(development_data_no_nan_col, id_vars = ['Country'], value_vars = time, var_name = 'Year', value_name = 'HDI')"
   ]
  },
  {
   "cell_type": "code",
   "execution_count": 46,
   "metadata": {},
   "outputs": [],
   "source": [
    "country_data.to_csv('country_development_index.csv', index = False)"
   ]
  },
  {
   "cell_type": "code",
   "execution_count": 110,
   "metadata": {},
   "outputs": [],
   "source": [
    "summary_data.to_csv('summary_development_index.csv', index = False)"
   ]
  }
 ],
 "metadata": {
  "kernelspec": {
   "display_name": "Python 3",
   "language": "python",
   "name": "python3"
  },
  "language_info": {
   "codemirror_mode": {
    "name": "ipython",
    "version": 3
   },
   "file_extension": ".py",
   "mimetype": "text/x-python",
   "name": "python",
   "nbconvert_exporter": "python",
   "pygments_lexer": "ipython3",
   "version": "3.7.4"
  }
 },
 "nbformat": 4,
 "nbformat_minor": 2
}
